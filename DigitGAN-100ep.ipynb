{
  "nbformat": 4,
  "nbformat_minor": 0,
  "metadata": {
    "kernelspec": {
      "display_name": "Python 3",
      "language": "python",
      "name": "python3"
    },
    "language_info": {
      "codemirror_mode": {
        "name": "ipython",
        "version": 3
      },
      "file_extension": ".py",
      "mimetype": "text/x-python",
      "name": "python",
      "nbconvert_exporter": "python",
      "pygments_lexer": "ipython3",
      "version": "3.8.2"
    },
    "colab": {
      "name": "DigitGAN.ipynb",
      "provenance": [],
      "collapsed_sections": []
    },
    "accelerator": "GPU"
  },
  "cells": [
    {
      "cell_type": "code",
      "metadata": {
        "id": "tGeN7AnT_H5p",
        "colab_type": "code",
        "colab": {}
      },
      "source": [
        "import tensorflow as tf\n",
        "import tensorflow.keras as K\n",
        "import tensorflow.keras.layers as layers\n",
        "import numpy as np\n",
        "import matplotlib.pyplot as plt\n",
        "\n",
        "%matplotlib inline"
      ],
      "execution_count": 1,
      "outputs": []
    },
    {
      "cell_type": "code",
      "metadata": {
        "id": "7DYw_YZe_H5z",
        "colab_type": "code",
        "colab": {
          "base_uri": "https://localhost:8080/",
          "height": 51
        },
        "outputId": "f790dc76-0df1-485a-9692-43ab00458def"
      },
      "source": [
        "(X_train, Y_train),(_, _) = K.datasets.mnist.load_data()"
      ],
      "execution_count": 2,
      "outputs": [
        {
          "output_type": "stream",
          "text": [
            "Downloading data from https://storage.googleapis.com/tensorflow/tf-keras-datasets/mnist.npz\n",
            "11493376/11490434 [==============================] - 0s 0us/step\n"
          ],
          "name": "stdout"
        }
      ]
    },
    {
      "cell_type": "code",
      "metadata": {
        "id": "UuMhG_2x_H55",
        "colab_type": "code",
        "colab": {
          "base_uri": "https://localhost:8080/",
          "height": 299
        },
        "outputId": "bed0bcb9-4a27-410c-8f3e-26ca63ee0d37"
      },
      "source": [
        "print(Y_train[0])\n",
        "plt.imshow(X_train[0])"
      ],
      "execution_count": 3,
      "outputs": [
        {
          "output_type": "stream",
          "text": [
            "5\n"
          ],
          "name": "stdout"
        },
        {
          "output_type": "execute_result",
          "data": {
            "text/plain": [
              "<matplotlib.image.AxesImage at 0x7fa5d99b9128>"
            ]
          },
          "metadata": {
            "tags": []
          },
          "execution_count": 3
        },
        {
          "output_type": "display_data",
          "data": {
            "image/png": "[encoded data removed]",
            "text/plain": [
              "<Figure size 432x288 with 1 Axes>"
            ]
          },
          "metadata": {
            "tags": [],
            "needs_background": "light"
          }
        }
      ]
    },
    {
      "cell_type": "code",
      "metadata": {
        "id": "o4GJ3yz9ASGx",
        "colab_type": "code",
        "colab": {
          "base_uri": "https://localhost:8080/",
          "height": 51
        },
        "outputId": "ad72a763-8a2c-42ef-f263-dbeecfa1035b"
      },
      "source": [
        "print(X_train.shape)\n",
        "print(Y_train.shape)"
      ],
      "execution_count": null,
      "outputs": [
        {
          "output_type": "stream",
          "text": [
            "(60000, 28, 28)\n",
            "(60000,)\n"
          ],
          "name": "stdout"
        }
      ]
    },
    {
      "cell_type": "code",
      "metadata": {
        "id": "f9E057of_rKb",
        "colab_type": "code",
        "colab": {
          "base_uri": "https://localhost:8080/",
          "height": 34
        },
        "outputId": "8b203b4a-12df-4ebb-8266-32e1983d703d"
      },
      "source": [
        "# (batch, h, w, channels)\n",
        "X_train = X_train.reshape(X_train.shape[0], X_train.shape[1], X_train.shape[2], 1).astype('float32')\n",
        "print(X_train.shape)"
      ],
      "execution_count": 4,
      "outputs": [
        {
          "output_type": "stream",
          "text": [
            "(60000, 28, 28, 1)\n"
          ],
          "name": "stdout"
        }
      ]
    },
    {
      "cell_type": "code",
      "metadata": {
        "id": "kC-XSxNPDkVT",
        "colab_type": "code",
        "colab": {}
      },
      "source": [
        "# normalizing\n",
        "X_train = (X_train - 127.5)/127.5"
      ],
      "execution_count": 5,
      "outputs": []
    },
    {
      "cell_type": "code",
      "metadata": {
        "id": "oID4k3BJFkUu",
        "colab_type": "code",
        "colab": {}
      },
      "source": [
        "# shuffling the whole dataset\n",
        "BUFFER_SIZE = X_train.shape[0]\n",
        "\n",
        "# splitting into batches\n",
        "BATCH_SIZE = 256\n",
        "\n",
        "# creating dataset\n",
        "trainingData = tf.data.Dataset.from_tensor_slices(X_train).shuffle(BUFFER_SIZE).batch(BATCH_SIZE)"
      ],
      "execution_count": 6,
      "outputs": []
    },
    {
      "cell_type": "code",
      "metadata": {
        "id": "xxIliSpFqVXu",
        "colab_type": "code",
        "colab": {}
      },
      "source": [
        "cross_entropy = tf.keras.losses.BinaryCrossentropy(from_logits=True)"
      ],
      "execution_count": 7,
      "outputs": []
    },
    {
      "cell_type": "markdown",
      "metadata": {
        "id": "nlU5EBnChio9",
        "colab_type": "text"
      },
      "source": [
        "# Models"
      ]
    },
    {
      "cell_type": "code",
      "metadata": {
        "id": "qrSFy9r8hc67",
        "colab_type": "code",
        "colab": {}
      },
      "source": [
        "def getGeneratorModel():\n",
        "  model = K.models.Sequential([\n",
        "                  # we will take an image of 7x7x256 as input, and this will be flattened\n",
        "                  # taking input as 100 random numbers\n",
        "                  layers.Dense(7*7*256, input_shape= (100,)),\n",
        "                  # normalizing the input so it doesn't explode\n",
        "                  layers.BatchNormalization(),\n",
        "                  layers.Reshape((7, 7, 256)),\n",
        "                  layers.LeakyReLU(),\n",
        "                  # inverse of convolution is the same as the transpose of the convolution\n",
        "                  # we want to start reducing the depth now\n",
        "                  layers.Conv2DTranspose(128, (5, 5), padding = 'same'),\n",
        "                  layers.BatchNormalization(),\n",
        "                  layers.LeakyReLU(),\n",
        "                  \n",
        "                  # pooling is proved to be harmful with GANs\n",
        "                  # we use strides instead of pooling to upsample\n",
        "                  layers.Conv2DTranspose(64, (5, 5), padding = 'same', strides = 2),\n",
        "                  layers.BatchNormalization(),\n",
        "                  layers.LeakyReLU(),\n",
        "                  # now we have a 14x14 image as we had strides = 2, so 7*2 upsample\n",
        "\n",
        "                  # now we reduce the depth to 1, and again upsample by a factor of 2\n",
        "                  layers.Conv2DTranspose(1, (5, 5), padding = 'same', strides = 2, activation = 'tanh')\n",
        "                  ])\n",
        "  assert model.output_shape == (None, 28, 28, 1)\n",
        "  \n",
        "  return model"
      ],
      "execution_count": 8,
      "outputs": []
    },
    {
      "cell_type": "code",
      "metadata": {
        "id": "eZ5NfI9VhlMo",
        "colab_type": "code",
        "colab": {
          "base_uri": "https://localhost:8080/",
          "height": 282
        },
        "outputId": "687c7e1a-26d0-4497-fb22-c7c2c5e3bc8e"
      },
      "source": [
        "generator = getGeneratorModel()\n",
        "\n",
        "noise = tf.random.normal([1, 100])\n",
        "generatedImage = generator(noise, training=False)\n",
        "\n",
        "plt.imshow(generatedImage[0, :, :, 0], cmap = 'gray')"
      ],
      "execution_count": 9,
      "outputs": [
        {
          "output_type": "execute_result",
          "data": {
            "text/plain": [
              "<matplotlib.image.AxesImage at 0x7fa57e1277b8>"
            ]
          },
          "metadata": {
            "tags": []
          },
          "execution_count": 9
        },
        {
          "output_type": "display_data",
          "data": {
            "image/png": "[encoded data removed]",
            "text/plain": [
              "<Figure size 432x288 with 1 Axes>"
            ]
          },
          "metadata": {
            "tags": [],
            "needs_background": "light"
          }
        }
      ]
    },
    {
      "cell_type": "code",
      "metadata": {
        "id": "nOUIOZJrIEwD",
        "colab_type": "code",
        "colab": {}
      },
      "source": [
        "def getDiscriminatorModel():\n",
        "  model = K.models.Sequential([\n",
        "            layers.Conv2D(64, (5, 5), strides = 2, padding = 'same', input_shape = (28, 28, 1)),\n",
        "\n",
        "            layers.LeakyReLU(),\n",
        "            layers.Dropout(0.3),\n",
        "\n",
        "            layers.Conv2D(128, (5, 5), strides=(2, 2), padding='same'),\n",
        "            layers.LeakyReLU(),\n",
        "            layers.Dropout(0.3),\n",
        "\n",
        "            layers.Flatten(),\n",
        "            layers.Dense(1),\n",
        "            ])\n",
        "  \n",
        "  return model"
      ],
      "execution_count": 10,
      "outputs": []
    },
    {
      "cell_type": "code",
      "metadata": {
        "id": "LNLSO4IHJYDA",
        "colab_type": "code",
        "colab": {}
      },
      "source": [
        "discriminator = getDiscriminatorModel()"
      ],
      "execution_count": 11,
      "outputs": []
    },
    {
      "cell_type": "code",
      "metadata": {
        "id": "Q7JYae8Dh_22",
        "colab_type": "code",
        "colab": {
          "base_uri": "https://localhost:8080/",
          "height": 34
        },
        "outputId": "d5436c37-d52b-4887-adff-1784d10a3c80"
      },
      "source": [
        "decision = discriminator(generatedImage)\n",
        "print(decision)"
      ],
      "execution_count": 12,
      "outputs": [
        {
          "output_type": "stream",
          "text": [
            "tf.Tensor([[0.00040589]], shape=(1, 1), dtype=float32)\n"
          ],
          "name": "stdout"
        }
      ]
    },
    {
      "cell_type": "markdown",
      "metadata": {
        "id": "_38k0vS5lSV8",
        "colab_type": "text"
      },
      "source": [
        "# Loss"
      ]
    },
    {
      "cell_type": "code",
      "metadata": {
        "id": "FKZBn5pLlfYO",
        "colab_type": "code",
        "colab": {}
      },
      "source": [
        "def getGeneratorLoss(fakePreds):\n",
        "  # fakePreds = tf.sigmoid(fakePreds)\n",
        "\n",
        "  # here, the generator should give out FAKES, hence the ideal output should be 1\n",
        "  # so, we take loss here w.r.t 1\n",
        "  # fakeLoss = tf.losses.binary_crossentropy(tf.ones_like(fakePreds), fakePreds)\n",
        "  fakeLoss = cross_entropy(tf.ones_like(fakePreds), fakePreds)\n",
        "\n",
        "  return fakeLoss"
      ],
      "execution_count": 13,
      "outputs": []
    },
    {
      "cell_type": "code",
      "metadata": {
        "id": "PjTrnuKtlWn_",
        "colab_type": "code",
        "colab": {}
      },
      "source": [
        "def getDiscriminatorLoss(realPreds, fakePreds):\n",
        "  # get predictions between 0 and 1\n",
        "  # realPreds = tf.sigmoid(realPreds)\n",
        "  # fakePreds = tf.sigmoid(fakePreds)\n",
        "\n",
        "  # for real predictions, we must have a value of one, hence loss must be taken w.r.t 1\n",
        "  # realLoss = tf.losses.binary_crossentropy(tf.ones_like(realPreds), realPreds)\n",
        "  realLoss = cross_entropy(tf.ones_like(realPreds), realPreds)\n",
        "\n",
        "  # for fake predictions, we must have a value of zero, hence loss must be taken w.r.t 0\n",
        "  # fakeLoss = tf.losses.binary_crossentropy(tf.zeros_like(fakePreds), fakePreds)\n",
        "  fakeLoss = cross_entropy(tf.zeros_like(fakePreds), fakePreds)\n",
        "\n",
        "  # print(\"[Debugging] \" + str(fakeLoss.shape) + \" \" + str(realLoss.shape))\n",
        "\n",
        "  return fakeLoss + realLoss"
      ],
      "execution_count": 14,
      "outputs": []
    },
    {
      "cell_type": "markdown",
      "metadata": {
        "id": "WKwx9LpFli8N",
        "colab_type": "text"
      },
      "source": [
        "# Optimizers"
      ]
    },
    {
      "cell_type": "code",
      "metadata": {
        "id": "F6DP8qDuJhhB",
        "colab_type": "code",
        "colab": {}
      },
      "source": [
        "discriminatorOptimizer = K.optimizers.Adam(lr = 1e-4)\n",
        "generatorOptimizer = K.optimizers.Adam(lr = 1e-4)"
      ],
      "execution_count": 15,
      "outputs": []
    },
    {
      "cell_type": "markdown",
      "metadata": {
        "id": "Kg-tt6gxOFqU",
        "colab_type": "text"
      },
      "source": [
        "# Training"
      ]
    },
    {
      "cell_type": "code",
      "metadata": {
        "id": "SqVet6j-l0dV",
        "colab_type": "code",
        "colab": {}
      },
      "source": [
        "EPOCHS = 100\n",
        "noiseDim = 100\n",
        "numberOfExamplesToGenerate = 16\n",
        "\n",
        "seed = tf.random.normal([numberOfExamplesToGenerate, noiseDim])"
      ],
      "execution_count": 27,
      "outputs": []
    },
    {
      "cell_type": "code",
      "metadata": {
        "id": "-Ty2G_s-OHvc",
        "colab_type": "code",
        "colab": {}
      },
      "source": [
        "def train(dataset, epochs):\n",
        "    gLoss = None\n",
        "    dLoss = None\n",
        "    for epoch in range(epochs):\n",
        "        print(\"Running epoch : \" + str(epoch + 1))\n",
        "        \n",
        "        for images in dataset:\n",
        "            gLoss, dLoss = trainStep(images)\n",
        "        \n",
        "        if (epoch+1)%5 == 0:\n",
        "          print(\"GEN Loss: \" + str(gLoss))\n",
        "          print(\"DISC Loss: \" + str(dLoss))"
      ],
      "execution_count": 28,
      "outputs": []
    },
    {
      "cell_type": "code",
      "metadata": {
        "id": "E2comxL_OdHa",
        "colab_type": "code",
        "colab": {}
      },
      "source": [
        "@tf.function\n",
        "def trainStep(images):\n",
        "  # random noise input\n",
        "  # we are giving 100 random numbers to the generator, hence we want 100 random numbers\n",
        "  # we have a batch size of BATCH_SIZE\n",
        "  noise = tf.random.normal([BATCH_SIZE, noiseDim])   # BATCH_SIZE number of random noise images\n",
        "\n",
        "  with tf.GradientTape() as genTape, tf.GradientTape() as discTape:\n",
        "    # passing noise through the generator model to get back an image of 28x28\n",
        "    generatedImages = generator(noise, training = True)\n",
        "\n",
        "    # getting output from the discriminator\n",
        "    realOutput = discriminator(images, training = True)\n",
        "    fakeOutput = discriminator(generatedImages, training = True)\n",
        "\n",
        "    # getting loss from both models\n",
        "    generatorLoss = getGeneratorLoss(fakeOutput)\n",
        "    discriminatorLoss = getDiscriminatorLoss(realOutput, fakeOutput)\n",
        "    \n",
        "  # passing the loss and then the trainable variables of the model for back prop\n",
        "  genGradients = genTape.gradient(generatorLoss, generator.trainable_variables)\n",
        "  discGradients = discTape.gradient(discriminatorLoss, discriminator.trainable_variables)\n",
        "\n",
        "  # using the previously declared optimizers for gradient descent\n",
        "  generatorOptimizer.apply_gradients(zip(genGradients, generator.trainable_variables))\n",
        "  discriminatorOptimizer.apply_gradients(zip(discGradients, discriminator.trainable_variables))    \n",
        "\n",
        "  return generatorLoss, discriminatorLoss"
      ],
      "execution_count": 29,
      "outputs": []
    },
    {
      "cell_type": "code",
      "metadata": {
        "id": "RvIVstcJZPiK",
        "colab_type": "code",
        "colab": {
          "base_uri": "https://localhost:8080/",
          "height": 1000
        },
        "outputId": "3cf0c3e4-2b91-4a85-882f-f39e9dd542f8"
      },
      "source": [
        "# training over training dataset and 2 epochs\n",
        "train(trainingData, EPOCHS)"
      ],
      "execution_count": 30,
      "outputs": [
        {
          "output_type": "stream",
          "text": [
            "Running epoch : 1\n",
            "Running epoch : 2\n",
            "Running epoch : 3\n",
            "Running epoch : 4\n",
            "Running epoch : 5\n",
            "GEN Loss: tf.Tensor(0.8145065, shape=(), dtype=float32)\n",
            "DISC Loss: tf.Tensor(1.2315667, shape=(), dtype=float32)\n",
            "Running epoch : 6\n",
            "Running epoch : 7\n",
            "Running epoch : 8\n",
            "Running epoch : 9\n",
            "Running epoch : 10\n",
            "GEN Loss: tf.Tensor(0.96443, shape=(), dtype=float32)\n",
            "DISC Loss: tf.Tensor(1.2304423, shape=(), dtype=float32)\n",
            "Running epoch : 11\n",
            "Running epoch : 12\n",
            "Running epoch : 13\n",
            "Running epoch : 14\n",
            "Running epoch : 15\n",
            "GEN Loss: tf.Tensor(0.7834953, shape=(), dtype=float32)\n",
            "DISC Loss: tf.Tensor(1.3014753, shape=(), dtype=float32)\n",
            "Running epoch : 16\n",
            "Running epoch : 17\n",
            "Running epoch : 18\n",
            "Running epoch : 19\n",
            "Running epoch : 20\n",
            "GEN Loss: tf.Tensor(1.0339652, shape=(), dtype=float32)\n",
            "DISC Loss: tf.Tensor(1.1720259, shape=(), dtype=float32)\n",
            "Running epoch : 21\n",
            "Running epoch : 22\n",
            "Running epoch : 23\n",
            "Running epoch : 24\n",
            "Running epoch : 25\n",
            "GEN Loss: tf.Tensor(1.0338331, shape=(), dtype=float32)\n",
            "DISC Loss: tf.Tensor(1.2794496, shape=(), dtype=float32)\n",
            "Running epoch : 26\n",
            "Running epoch : 27\n",
            "Running epoch : 28\n",
            "Running epoch : 29\n",
            "Running epoch : 30\n",
            "GEN Loss: tf.Tensor(0.8796222, shape=(), dtype=float32)\n",
            "DISC Loss: tf.Tensor(1.3493481, shape=(), dtype=float32)\n",
            "Running epoch : 31\n",
            "Running epoch : 32\n",
            "Running epoch : 33\n",
            "Running epoch : 34\n",
            "Running epoch : 35\n",
            "GEN Loss: tf.Tensor(0.8858157, shape=(), dtype=float32)\n",
            "DISC Loss: tf.Tensor(1.1655257, shape=(), dtype=float32)\n",
            "Running epoch : 36\n",
            "Running epoch : 37\n",
            "Running epoch : 38\n",
            "Running epoch : 39\n",
            "Running epoch : 40\n",
            "GEN Loss: tf.Tensor(0.95498353, shape=(), dtype=float32)\n",
            "DISC Loss: tf.Tensor(1.1607172, shape=(), dtype=float32)\n",
            "Running epoch : 41\n",
            "Running epoch : 42\n",
            "Running epoch : 43\n",
            "Running epoch : 44\n",
            "Running epoch : 45\n",
            "GEN Loss: tf.Tensor(0.88061816, shape=(), dtype=float32)\n",
            "DISC Loss: tf.Tensor(1.305043, shape=(), dtype=float32)\n",
            "Running epoch : 46\n",
            "Running epoch : 47\n",
            "Running epoch : 48\n",
            "Running epoch : 49\n",
            "Running epoch : 50\n",
            "GEN Loss: tf.Tensor(1.0123355, shape=(), dtype=float32)\n",
            "DISC Loss: tf.Tensor(1.220171, shape=(), dtype=float32)\n",
            "Running epoch : 51\n",
            "Running epoch : 52\n",
            "Running epoch : 53\n",
            "Running epoch : 54\n",
            "Running epoch : 55\n",
            "GEN Loss: tf.Tensor(1.1045761, shape=(), dtype=float32)\n",
            "DISC Loss: tf.Tensor(1.1005644, shape=(), dtype=float32)\n",
            "Running epoch : 56\n",
            "Running epoch : 57\n",
            "Running epoch : 58\n",
            "Running epoch : 59\n",
            "Running epoch : 60\n",
            "GEN Loss: tf.Tensor(0.8403515, shape=(), dtype=float32)\n",
            "DISC Loss: tf.Tensor(1.2722182, shape=(), dtype=float32)\n",
            "Running epoch : 61\n",
            "Running epoch : 62\n",
            "Running epoch : 63\n",
            "Running epoch : 64\n",
            "Running epoch : 65\n",
            "GEN Loss: tf.Tensor(0.9580656, shape=(), dtype=float32)\n",
            "DISC Loss: tf.Tensor(1.2048101, shape=(), dtype=float32)\n",
            "Running epoch : 66\n",
            "Running epoch : 67\n",
            "Running epoch : 68\n",
            "Running epoch : 69\n",
            "Running epoch : 70\n",
            "GEN Loss: tf.Tensor(0.8391881, shape=(), dtype=float32)\n",
            "DISC Loss: tf.Tensor(1.3383976, shape=(), dtype=float32)\n",
            "Running epoch : 71\n",
            "Running epoch : 72\n",
            "Running epoch : 73\n",
            "Running epoch : 74\n",
            "Running epoch : 75\n",
            "GEN Loss: tf.Tensor(0.9803072, shape=(), dtype=float32)\n",
            "DISC Loss: tf.Tensor(1.2371411, shape=(), dtype=float32)\n",
            "Running epoch : 76\n",
            "Running epoch : 77\n",
            "Running epoch : 78\n",
            "Running epoch : 79\n",
            "Running epoch : 80\n",
            "GEN Loss: tf.Tensor(0.8836979, shape=(), dtype=float32)\n",
            "DISC Loss: tf.Tensor(1.2819982, shape=(), dtype=float32)\n",
            "Running epoch : 81\n",
            "Running epoch : 82\n",
            "Running epoch : 83\n",
            "Running epoch : 84\n",
            "Running epoch : 85\n",
            "GEN Loss: tf.Tensor(0.7816551, shape=(), dtype=float32)\n",
            "DISC Loss: tf.Tensor(1.324869, shape=(), dtype=float32)\n",
            "Running epoch : 86\n",
            "Running epoch : 87\n",
            "Running epoch : 88\n",
            "Running epoch : 89\n",
            "Running epoch : 90\n",
            "GEN Loss: tf.Tensor(0.99408007, shape=(), dtype=float32)\n",
            "DISC Loss: tf.Tensor(1.2609415, shape=(), dtype=float32)\n",
            "Running epoch : 91\n",
            "Running epoch : 92\n",
            "Running epoch : 93\n",
            "Running epoch : 94\n",
            "Running epoch : 95\n",
            "GEN Loss: tf.Tensor(0.9085577, shape=(), dtype=float32)\n",
            "DISC Loss: tf.Tensor(1.2674009, shape=(), dtype=float32)\n",
            "Running epoch : 96\n",
            "Running epoch : 97\n",
            "Running epoch : 98\n",
            "Running epoch : 99\n",
            "Running epoch : 100\n",
            "GEN Loss: tf.Tensor(0.8441734, shape=(), dtype=float32)\n",
            "DISC Loss: tf.Tensor(1.3861506, shape=(), dtype=float32)\n"
          ],
          "name": "stdout"
        }
      ]
    },
    {
      "cell_type": "code",
      "metadata": {
        "id": "aer5zIcbfLAF",
        "colab_type": "code",
        "colab": {
          "base_uri": "https://localhost:8080/",
          "height": 282
        },
        "outputId": "6e8456b0-84b2-40a4-c2d2-f4822cd0957e"
      },
      "source": [
        "# now predicting\n",
        "plt.imshow(tf.reshape(generator(np.random.randn(1, 100)), (28, 28)), cmap='gray')"
      ],
      "execution_count": 40,
      "outputs": [
        {
          "output_type": "execute_result",
          "data": {
            "text/plain": [
              "<matplotlib.image.AxesImage at 0x7fa566a28b70>"
            ]
          },
          "metadata": {
            "tags": []
          },
          "execution_count": 40
        },
        {
          "output_type": "display_data",
          "data": {
            "image/png": "[encoded data removed]",
            "text/plain": [
              "<Figure size 432x288 with 1 Axes>"
            ]
          },
          "metadata": {
            "tags": [],
            "needs_background": "light"
          }
        }
      ]
    },
    {
      "cell_type": "code",
      "metadata": {
        "id": "s1ca9ioKjg5q",
        "colab_type": "code",
        "colab": {
          "base_uri": "https://localhost:8080/",
          "height": 282
        },
        "outputId": "e1e4d135-88e8-4a68-ff81-e8f67351433f"
      },
      "source": [
        "plt.imshow(tf.reshape(generator(np.random.randn(1, 100)), (28, 28)), cmap='gray')"
      ],
      "execution_count": 43,
      "outputs": [
        {
          "output_type": "execute_result",
          "data": {
            "text/plain": [
              "<matplotlib.image.AxesImage at 0x7fa5668d0550>"
            ]
          },
          "metadata": {
            "tags": []
          },
          "execution_count": 43
        },
        {
          "output_type": "display_data",
          "data": {
            "image/png": "[encoded data removed]",
            "text/plain": [
              "<Figure size 432x288 with 1 Axes>"
            ]
          },
          "metadata": {
            "tags": [],
            "needs_background": "light"
          }
        }
      ]
    },
    {
      "cell_type": "code",
      "metadata": {
        "id": "WCM1oJucttFa",
        "colab_type": "code",
        "colab": {
          "base_uri": "https://localhost:8080/",
          "height": 282
        },
        "outputId": "dc0a97f0-e313-4590-bd18-82eaa0d64667"
      },
      "source": [
        "plt.imshow(tf.reshape(generator(np.random.randn(1, 100)), (28, 28)), cmap='gray')"
      ],
      "execution_count": 50,
      "outputs": [
        {
          "output_type": "execute_result",
          "data": {
            "text/plain": [
              "<matplotlib.image.AxesImage at 0x7fa56665f630>"
            ]
          },
          "metadata": {
            "tags": []
          },
          "execution_count": 50
        },
        {
          "output_type": "display_data",
          "data": {
            "image/png": "[encoded data removed]",
            "text/plain": [
              "<Figure size 432x288 with 1 Axes>"
            ]
          },
          "metadata": {
            "tags": [],
            "needs_background": "light"
          }
        }
      ]
    },
    {
      "cell_type": "code",
      "metadata": {
        "id": "pG9vMdjbG2tp",
        "colab_type": "code",
        "colab": {}
      },
      "source": [
        ""
      ],
      "execution_count": 45,
      "outputs": []
    }
  ]
}